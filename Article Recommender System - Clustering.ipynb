{
 "cells": [
  {
   "cell_type": "code",
   "execution_count": 47,
   "id": "aaf70cb8",
   "metadata": {},
   "outputs": [],
   "source": [
    "import numpy as np                                                      \n",
    "import pandas as pd                                                    \n",
    "import matplotlib.pyplot as plt                                        \n",
    "from sklearn.cluster import KMeans\n",
    "from sklearn.metrics import silhouette_score\n",
    "from sklearn import metrics\n",
    "from sklearn.feature_extraction.text import TfidfVectorizer\n",
    "from tqdm import tqdm\n",
    "from nltk.corpus import stopwords\n",
    "import re\n",
    "import string\n",
    "import nltk\n",
    "from sklearn.feature_extraction.text import CountVectorizer\n",
    "from tqdm import tqdm\n",
    "from nltk.tokenize import sent_tokenize\n",
    "from sklearn.metrics.pairwise import pairwise_distances\n",
    "from sklearn.metrics.pairwise import linear_kernel\n",
    "from sklearn.metrics.pairwise import euclidean_distances\n",
    "from nltk.stem.porter import PorterStemmer\n",
    "from nltk.stem import WordNetLemmatizer\n",
    "from nltk.tokenize import word_tokenize"
   ]
  },
  {
   "cell_type": "code",
   "execution_count": 48,
   "id": "e7d211a0",
   "metadata": {},
   "outputs": [],
   "source": [
    "df = pd.read_csv('shared_articles.csv')"
   ]
  },
  {
   "cell_type": "code",
   "execution_count": 49,
   "id": "35e84be8",
   "metadata": {},
   "outputs": [
    {
     "data": {
      "text/html": [
       "<div>\n",
       "<style scoped>\n",
       "    .dataframe tbody tr th:only-of-type {\n",
       "        vertical-align: middle;\n",
       "    }\n",
       "\n",
       "    .dataframe tbody tr th {\n",
       "        vertical-align: top;\n",
       "    }\n",
       "\n",
       "    .dataframe thead th {\n",
       "        text-align: right;\n",
       "    }\n",
       "</style>\n",
       "<table border=\"1\" class=\"dataframe\">\n",
       "  <thead>\n",
       "    <tr style=\"text-align: right;\">\n",
       "      <th></th>\n",
       "      <th>timestamp</th>\n",
       "      <th>eventType</th>\n",
       "      <th>contentId</th>\n",
       "      <th>authorPersonId</th>\n",
       "      <th>authorSessionId</th>\n",
       "      <th>authorUserAgent</th>\n",
       "      <th>authorRegion</th>\n",
       "      <th>authorCountry</th>\n",
       "      <th>contentType</th>\n",
       "      <th>url</th>\n",
       "      <th>title</th>\n",
       "      <th>text</th>\n",
       "      <th>lang</th>\n",
       "    </tr>\n",
       "  </thead>\n",
       "  <tbody>\n",
       "    <tr>\n",
       "      <th>0</th>\n",
       "      <td>1459192779</td>\n",
       "      <td>CONTENT REMOVED</td>\n",
       "      <td>-6451309518266745024</td>\n",
       "      <td>4340306774493623681</td>\n",
       "      <td>8940341205206233829</td>\n",
       "      <td>NaN</td>\n",
       "      <td>NaN</td>\n",
       "      <td>NaN</td>\n",
       "      <td>HTML</td>\n",
       "      <td>http://www.nytimes.com/2016/03/28/business/dea...</td>\n",
       "      <td>Ethereum, a Virtual Currency, Enables Transact...</td>\n",
       "      <td>All of this work is still very early. The firs...</td>\n",
       "      <td>en</td>\n",
       "    </tr>\n",
       "    <tr>\n",
       "      <th>1</th>\n",
       "      <td>1459193988</td>\n",
       "      <td>CONTENT SHARED</td>\n",
       "      <td>-4110354420726924665</td>\n",
       "      <td>4340306774493623681</td>\n",
       "      <td>8940341205206233829</td>\n",
       "      <td>NaN</td>\n",
       "      <td>NaN</td>\n",
       "      <td>NaN</td>\n",
       "      <td>HTML</td>\n",
       "      <td>http://www.nytimes.com/2016/03/28/business/dea...</td>\n",
       "      <td>Ethereum, a Virtual Currency, Enables Transact...</td>\n",
       "      <td>All of this work is still very early. The firs...</td>\n",
       "      <td>en</td>\n",
       "    </tr>\n",
       "    <tr>\n",
       "      <th>2</th>\n",
       "      <td>1459194146</td>\n",
       "      <td>CONTENT SHARED</td>\n",
       "      <td>-7292285110016212249</td>\n",
       "      <td>4340306774493623681</td>\n",
       "      <td>8940341205206233829</td>\n",
       "      <td>NaN</td>\n",
       "      <td>NaN</td>\n",
       "      <td>NaN</td>\n",
       "      <td>HTML</td>\n",
       "      <td>http://cointelegraph.com/news/bitcoin-future-w...</td>\n",
       "      <td>Bitcoin Future: When GBPcoin of Branson Wins O...</td>\n",
       "      <td>The alarm clock wakes me at 8:00 with stream o...</td>\n",
       "      <td>en</td>\n",
       "    </tr>\n",
       "    <tr>\n",
       "      <th>3</th>\n",
       "      <td>1459194474</td>\n",
       "      <td>CONTENT SHARED</td>\n",
       "      <td>-6151852268067518688</td>\n",
       "      <td>3891637997717104548</td>\n",
       "      <td>-1457532940883382585</td>\n",
       "      <td>NaN</td>\n",
       "      <td>NaN</td>\n",
       "      <td>NaN</td>\n",
       "      <td>HTML</td>\n",
       "      <td>https://cloudplatform.googleblog.com/2016/03/G...</td>\n",
       "      <td>Google Data Center 360° Tour</td>\n",
       "      <td>We're excited to share the Google Data Center ...</td>\n",
       "      <td>en</td>\n",
       "    </tr>\n",
       "    <tr>\n",
       "      <th>4</th>\n",
       "      <td>1459194497</td>\n",
       "      <td>CONTENT SHARED</td>\n",
       "      <td>2448026894306402386</td>\n",
       "      <td>4340306774493623681</td>\n",
       "      <td>8940341205206233829</td>\n",
       "      <td>NaN</td>\n",
       "      <td>NaN</td>\n",
       "      <td>NaN</td>\n",
       "      <td>HTML</td>\n",
       "      <td>https://bitcoinmagazine.com/articles/ibm-wants...</td>\n",
       "      <td>IBM Wants to \"Evolve the Internet\" With Blockc...</td>\n",
       "      <td>The Aite Group projects the blockchain market ...</td>\n",
       "      <td>en</td>\n",
       "    </tr>\n",
       "  </tbody>\n",
       "</table>\n",
       "</div>"
      ],
      "text/plain": [
       "    timestamp        eventType            contentId       authorPersonId  \\\n",
       "0  1459192779  CONTENT REMOVED -6451309518266745024  4340306774493623681   \n",
       "1  1459193988   CONTENT SHARED -4110354420726924665  4340306774493623681   \n",
       "2  1459194146   CONTENT SHARED -7292285110016212249  4340306774493623681   \n",
       "3  1459194474   CONTENT SHARED -6151852268067518688  3891637997717104548   \n",
       "4  1459194497   CONTENT SHARED  2448026894306402386  4340306774493623681   \n",
       "\n",
       "       authorSessionId authorUserAgent authorRegion authorCountry contentType  \\\n",
       "0  8940341205206233829             NaN          NaN           NaN        HTML   \n",
       "1  8940341205206233829             NaN          NaN           NaN        HTML   \n",
       "2  8940341205206233829             NaN          NaN           NaN        HTML   \n",
       "3 -1457532940883382585             NaN          NaN           NaN        HTML   \n",
       "4  8940341205206233829             NaN          NaN           NaN        HTML   \n",
       "\n",
       "                                                 url  \\\n",
       "0  http://www.nytimes.com/2016/03/28/business/dea...   \n",
       "1  http://www.nytimes.com/2016/03/28/business/dea...   \n",
       "2  http://cointelegraph.com/news/bitcoin-future-w...   \n",
       "3  https://cloudplatform.googleblog.com/2016/03/G...   \n",
       "4  https://bitcoinmagazine.com/articles/ibm-wants...   \n",
       "\n",
       "                                               title  \\\n",
       "0  Ethereum, a Virtual Currency, Enables Transact...   \n",
       "1  Ethereum, a Virtual Currency, Enables Transact...   \n",
       "2  Bitcoin Future: When GBPcoin of Branson Wins O...   \n",
       "3                       Google Data Center 360° Tour   \n",
       "4  IBM Wants to \"Evolve the Internet\" With Blockc...   \n",
       "\n",
       "                                                text lang  \n",
       "0  All of this work is still very early. The firs...   en  \n",
       "1  All of this work is still very early. The firs...   en  \n",
       "2  The alarm clock wakes me at 8:00 with stream o...   en  \n",
       "3  We're excited to share the Google Data Center ...   en  \n",
       "4  The Aite Group projects the blockchain market ...   en  "
      ]
     },
     "execution_count": 49,
     "metadata": {},
     "output_type": "execute_result"
    }
   ],
   "source": [
    "df.head(5)"
   ]
  },
  {
   "cell_type": "code",
   "execution_count": 50,
   "id": "10e05530",
   "metadata": {},
   "outputs": [
    {
     "data": {
      "text/plain": [
       "timestamp             0\n",
       "eventType             0\n",
       "contentId             0\n",
       "authorPersonId        0\n",
       "authorSessionId       0\n",
       "authorUserAgent    2442\n",
       "authorRegion       2442\n",
       "authorCountry      2442\n",
       "contentType           0\n",
       "url                   0\n",
       "title                 0\n",
       "text                  0\n",
       "lang                  0\n",
       "dtype: int64"
      ]
     },
     "execution_count": 50,
     "metadata": {},
     "output_type": "execute_result"
    }
   ],
   "source": [
    "df.isna().sum()"
   ]
  },
  {
   "cell_type": "code",
   "execution_count": 51,
   "id": "6833f435",
   "metadata": {},
   "outputs": [
    {
     "data": {
      "text/plain": [
       "{'en', 'es', 'ja', 'la', 'pt'}"
      ]
     },
     "execution_count": 51,
     "metadata": {},
     "output_type": "execute_result"
    }
   ],
   "source": [
    "set(df['lang'])"
   ]
  },
  {
   "cell_type": "code",
   "execution_count": 52,
   "id": "c5a0abeb",
   "metadata": {},
   "outputs": [],
   "source": [
    "# Limiting our recommendation to English Articles\n",
    "df_main = df[df['lang']=='en']"
   ]
  },
  {
   "cell_type": "code",
   "execution_count": 53,
   "id": "9f7b59fa",
   "metadata": {},
   "outputs": [
    {
     "data": {
      "text/plain": [
       "{'en'}"
      ]
     },
     "execution_count": 53,
     "metadata": {},
     "output_type": "execute_result"
    }
   ],
   "source": [
    "set(df_main['lang'])"
   ]
  },
  {
   "cell_type": "code",
   "execution_count": 54,
   "id": "230f51ca",
   "metadata": {},
   "outputs": [],
   "source": [
    "# https://stackoverflow.com/a/47091490/4084039\n",
    "def decontracted(phrase):\n",
    "    \"\"\"\n",
    "    This function would convert some short letters into the forms that one \n",
    "    could easily understand respectively.\n",
    "    \"\"\"\n",
    "    # specific\n",
    "    phrase = re.sub(r\"won't\", \"will not\", phrase)\n",
    "    phrase = re.sub(r\"can\\'t\", \"can not\", phrase)\n",
    "\n",
    "    # general\n",
    "    phrase = re.sub(r\"n\\'t\", \" not\", phrase)\n",
    "    phrase = re.sub(r\"\\'re\", \" are\", phrase)\n",
    "    phrase = re.sub(r\"\\'s\", \" is\", phrase)\n",
    "    phrase = re.sub(r\"\\'d\", \" would\", phrase)\n",
    "    phrase = re.sub(r\"\\'ll\", \" will\", phrase)\n",
    "    phrase = re.sub(r\"\\'t\", \" not\", phrase)\n",
    "    phrase = re.sub(r\"\\'ve\", \" have\", phrase)\n",
    "    phrase = re.sub(r\"\\'m\", \" am\", phrase)\n",
    "    return phrase"
   ]
  },
  {
   "cell_type": "code",
   "execution_count": 55,
   "id": "d5f07479",
   "metadata": {},
   "outputs": [],
   "source": [
    "def text_preprocessing(df, feature, stemming = False, lemmatize = True):\n",
    "    pattern = \"[^a-zA-Z0-9]\"\n",
    "    english_stopwords = stopwords.words(\"english\")\n",
    "    preprocessed_text = []\n",
    "    for i in tqdm(range(len(df[feature]))):\n",
    "        text = decontracted(df[feature].iloc[i])\n",
    "        text = re.sub(pattern, ' ', text)\n",
    "        text = text.lower()\n",
    "        text = word_tokenize(text)\n",
    "        text = [word for word in text if word not in english_stopwords]\n",
    "        text = [word for word in text if word not in string.punctuation]\n",
    "        if stemming:\n",
    "            porter_stemmer = PorterStemmer()\n",
    "            text = \" \".join([porter_stemmer.stem(word) for word in text])\n",
    "        if lemmatize:\n",
    "            lemmatizer = WordNetLemmatizer()\n",
    "            text = \" \".join([lemmatizer.lemmatize(word) for word in text])\n",
    "        preprocessed_text.append(text)\n",
    "    \n",
    "    return preprocessed_text"
   ]
  },
  {
   "cell_type": "code",
   "execution_count": 61,
   "id": "606a04a1",
   "metadata": {},
   "outputs": [
    {
     "name": "stderr",
     "output_type": "stream",
     "text": [
      "100%|██████████████████████████████████████| 2264/2264 [00:09<00:00, 243.46it/s]\n"
     ]
    }
   ],
   "source": [
    "preprocessed_text = text_preprocessing(df_main, feature = \"text\")"
   ]
  },
  {
   "cell_type": "code",
   "execution_count": 63,
   "id": "af1e14d1",
   "metadata": {},
   "outputs": [
    {
     "data": {
      "text/plain": [
       "2264"
      ]
     },
     "execution_count": 63,
     "metadata": {},
     "output_type": "execute_result"
    }
   ],
   "source": [
    "len(preprocessed_text)"
   ]
  },
  {
   "cell_type": "code",
   "execution_count": 64,
   "id": "b8ceb176",
   "metadata": {},
   "outputs": [
    {
     "name": "stderr",
     "output_type": "stream",
     "text": [
      "100%|█████████████████████████████████████| 2264/2264 [00:00<00:00, 9937.72it/s]\n"
     ]
    }
   ],
   "source": [
    "preprocessed_title = text_preprocessing(df_main, feature = \"title\")"
   ]
  },
  {
   "cell_type": "code",
   "execution_count": 65,
   "id": "1f9cd576",
   "metadata": {},
   "outputs": [
    {
     "data": {
      "text/plain": [
       "2264"
      ]
     },
     "execution_count": 65,
     "metadata": {},
     "output_type": "execute_result"
    }
   ],
   "source": [
    "len(preprocessed_title)"
   ]
  },
  {
   "cell_type": "markdown",
   "id": "da2f1c26",
   "metadata": {},
   "source": [
    "# Recommendation based on just the Items - Articles\n",
    "##### At an overall level\n",
    "##### Assuming no User Information is available\n",
    "Generating the recommendations based on similarity of items- Clustering like problem"
   ]
  },
  {
   "cell_type": "code",
   "execution_count": 21,
   "id": "d1db5f3b",
   "metadata": {},
   "outputs": [
    {
     "data": {
      "text/plain": [
       "Index(['timestamp', 'eventType', 'contentId', 'authorPersonId',\n",
       "       'authorSessionId', 'authorUserAgent', 'authorRegion', 'authorCountry',\n",
       "       'contentType', 'url', 'title', 'text', 'lang'],\n",
       "      dtype='object')"
      ]
     },
     "execution_count": 21,
     "metadata": {},
     "output_type": "execute_result"
    }
   ],
   "source": [
    "# All the columns are unimportant but text/ title\n",
    "df_main.columns"
   ]
  },
  {
   "cell_type": "markdown",
   "id": "bc037a54",
   "metadata": {},
   "source": [
    "TF-IDF\n",
    "* TF(t) = (Number of times term 't' appears in a document) / (Total number of terms in the document)\n",
    "* IDF(t) = log_e(Total number of documents / Number of documents with term 't' in it)"
   ]
  },
  {
   "cell_type": "code",
   "execution_count": 134,
   "id": "e9dc657c",
   "metadata": {},
   "outputs": [],
   "source": [
    "vectorizer = TfidfVectorizer(stop_words='english')"
   ]
  },
  {
   "cell_type": "code",
   "execution_count": 135,
   "id": "7bed9b08",
   "metadata": {},
   "outputs": [],
   "source": [
    "tfidf_vectorizer_text = vectorizer.fit_transform(preprocessed_text)"
   ]
  },
  {
   "cell_type": "code",
   "execution_count": 87,
   "id": "2505255f",
   "metadata": {},
   "outputs": [],
   "source": [
    "# tfidf_vectorizer_title = vectorizer.fit_transform(preprocessed_title)"
   ]
  },
  {
   "cell_type": "markdown",
   "id": "3a42a552",
   "metadata": {},
   "source": [
    "* Inertia actually calculates the sum of distances of all the points within a cluster from the centroid of that cluster\n",
    "* Along with the distance between the centroid and points, the Dunn index also takes into account the distance between two clusters"
   ]
  },
  {
   "cell_type": "markdown",
   "id": "5bc8c0d7",
   "metadata": {},
   "source": [
    "#### Clustering for \"Text\""
   ]
  },
  {
   "cell_type": "code",
   "execution_count": 113,
   "id": "31c07ae7",
   "metadata": {
    "scrolled": true
   },
   "outputs": [
    {
     "name": "stderr",
     "output_type": "stream",
     "text": [
      "/var/folders/3c/q875p1_979j40ck65t4g0y640000gn/T/ipykernel_72613/2355151510.py:6: SettingWithCopyWarning: \n",
      "A value is trying to be set on a copy of a slice from a DataFrame.\n",
      "Try using .loc[row_indexer,col_indexer] = value instead\n",
      "\n",
      "See the caveats in the documentation: https://pandas.pydata.org/pandas-docs/stable/user_guide/indexing.html#returning-a-view-versus-a-copy\n",
      "  df_main[\"clusters\"] = kmeans.labels_\n",
      "/var/folders/3c/q875p1_979j40ck65t4g0y640000gn/T/ipykernel_72613/2355151510.py:6: SettingWithCopyWarning: \n",
      "A value is trying to be set on a copy of a slice from a DataFrame.\n",
      "Try using .loc[row_indexer,col_indexer] = value instead\n",
      "\n",
      "See the caveats in the documentation: https://pandas.pydata.org/pandas-docs/stable/user_guide/indexing.html#returning-a-view-versus-a-copy\n",
      "  df_main[\"clusters\"] = kmeans.labels_\n",
      "/var/folders/3c/q875p1_979j40ck65t4g0y640000gn/T/ipykernel_72613/2355151510.py:6: SettingWithCopyWarning: \n",
      "A value is trying to be set on a copy of a slice from a DataFrame.\n",
      "Try using .loc[row_indexer,col_indexer] = value instead\n",
      "\n",
      "See the caveats in the documentation: https://pandas.pydata.org/pandas-docs/stable/user_guide/indexing.html#returning-a-view-versus-a-copy\n",
      "  df_main[\"clusters\"] = kmeans.labels_\n",
      "/var/folders/3c/q875p1_979j40ck65t4g0y640000gn/T/ipykernel_72613/2355151510.py:6: SettingWithCopyWarning: \n",
      "A value is trying to be set on a copy of a slice from a DataFrame.\n",
      "Try using .loc[row_indexer,col_indexer] = value instead\n",
      "\n",
      "See the caveats in the documentation: https://pandas.pydata.org/pandas-docs/stable/user_guide/indexing.html#returning-a-view-versus-a-copy\n",
      "  df_main[\"clusters\"] = kmeans.labels_\n",
      "/var/folders/3c/q875p1_979j40ck65t4g0y640000gn/T/ipykernel_72613/2355151510.py:6: SettingWithCopyWarning: \n",
      "A value is trying to be set on a copy of a slice from a DataFrame.\n",
      "Try using .loc[row_indexer,col_indexer] = value instead\n",
      "\n",
      "See the caveats in the documentation: https://pandas.pydata.org/pandas-docs/stable/user_guide/indexing.html#returning-a-view-versus-a-copy\n",
      "  df_main[\"clusters\"] = kmeans.labels_\n",
      "/var/folders/3c/q875p1_979j40ck65t4g0y640000gn/T/ipykernel_72613/2355151510.py:6: SettingWithCopyWarning: \n",
      "A value is trying to be set on a copy of a slice from a DataFrame.\n",
      "Try using .loc[row_indexer,col_indexer] = value instead\n",
      "\n",
      "See the caveats in the documentation: https://pandas.pydata.org/pandas-docs/stable/user_guide/indexing.html#returning-a-view-versus-a-copy\n",
      "  df_main[\"clusters\"] = kmeans.labels_\n",
      "/var/folders/3c/q875p1_979j40ck65t4g0y640000gn/T/ipykernel_72613/2355151510.py:6: SettingWithCopyWarning: \n",
      "A value is trying to be set on a copy of a slice from a DataFrame.\n",
      "Try using .loc[row_indexer,col_indexer] = value instead\n",
      "\n",
      "See the caveats in the documentation: https://pandas.pydata.org/pandas-docs/stable/user_guide/indexing.html#returning-a-view-versus-a-copy\n",
      "  df_main[\"clusters\"] = kmeans.labels_\n",
      "/var/folders/3c/q875p1_979j40ck65t4g0y640000gn/T/ipykernel_72613/2355151510.py:6: SettingWithCopyWarning: \n",
      "A value is trying to be set on a copy of a slice from a DataFrame.\n",
      "Try using .loc[row_indexer,col_indexer] = value instead\n",
      "\n",
      "See the caveats in the documentation: https://pandas.pydata.org/pandas-docs/stable/user_guide/indexing.html#returning-a-view-versus-a-copy\n",
      "  df_main[\"clusters\"] = kmeans.labels_\n",
      "/var/folders/3c/q875p1_979j40ck65t4g0y640000gn/T/ipykernel_72613/2355151510.py:6: SettingWithCopyWarning: \n",
      "A value is trying to be set on a copy of a slice from a DataFrame.\n",
      "Try using .loc[row_indexer,col_indexer] = value instead\n",
      "\n",
      "See the caveats in the documentation: https://pandas.pydata.org/pandas-docs/stable/user_guide/indexing.html#returning-a-view-versus-a-copy\n",
      "  df_main[\"clusters\"] = kmeans.labels_\n",
      "/var/folders/3c/q875p1_979j40ck65t4g0y640000gn/T/ipykernel_72613/2355151510.py:6: SettingWithCopyWarning: \n",
      "A value is trying to be set on a copy of a slice from a DataFrame.\n",
      "Try using .loc[row_indexer,col_indexer] = value instead\n",
      "\n",
      "See the caveats in the documentation: https://pandas.pydata.org/pandas-docs/stable/user_guide/indexing.html#returning-a-view-versus-a-copy\n",
      "  df_main[\"clusters\"] = kmeans.labels_\n",
      "/var/folders/3c/q875p1_979j40ck65t4g0y640000gn/T/ipykernel_72613/2355151510.py:6: SettingWithCopyWarning: \n",
      "A value is trying to be set on a copy of a slice from a DataFrame.\n",
      "Try using .loc[row_indexer,col_indexer] = value instead\n",
      "\n",
      "See the caveats in the documentation: https://pandas.pydata.org/pandas-docs/stable/user_guide/indexing.html#returning-a-view-versus-a-copy\n",
      "  df_main[\"clusters\"] = kmeans.labels_\n",
      "/var/folders/3c/q875p1_979j40ck65t4g0y640000gn/T/ipykernel_72613/2355151510.py:6: SettingWithCopyWarning: \n",
      "A value is trying to be set on a copy of a slice from a DataFrame.\n",
      "Try using .loc[row_indexer,col_indexer] = value instead\n",
      "\n",
      "See the caveats in the documentation: https://pandas.pydata.org/pandas-docs/stable/user_guide/indexing.html#returning-a-view-versus-a-copy\n",
      "  df_main[\"clusters\"] = kmeans.labels_\n",
      "/var/folders/3c/q875p1_979j40ck65t4g0y640000gn/T/ipykernel_72613/2355151510.py:6: SettingWithCopyWarning: \n",
      "A value is trying to be set on a copy of a slice from a DataFrame.\n",
      "Try using .loc[row_indexer,col_indexer] = value instead\n",
      "\n",
      "See the caveats in the documentation: https://pandas.pydata.org/pandas-docs/stable/user_guide/indexing.html#returning-a-view-versus-a-copy\n",
      "  df_main[\"clusters\"] = kmeans.labels_\n",
      "/var/folders/3c/q875p1_979j40ck65t4g0y640000gn/T/ipykernel_72613/2355151510.py:6: SettingWithCopyWarning: \n",
      "A value is trying to be set on a copy of a slice from a DataFrame.\n",
      "Try using .loc[row_indexer,col_indexer] = value instead\n",
      "\n",
      "See the caveats in the documentation: https://pandas.pydata.org/pandas-docs/stable/user_guide/indexing.html#returning-a-view-versus-a-copy\n",
      "  df_main[\"clusters\"] = kmeans.labels_\n",
      "/var/folders/3c/q875p1_979j40ck65t4g0y640000gn/T/ipykernel_72613/2355151510.py:6: SettingWithCopyWarning: \n",
      "A value is trying to be set on a copy of a slice from a DataFrame.\n",
      "Try using .loc[row_indexer,col_indexer] = value instead\n",
      "\n",
      "See the caveats in the documentation: https://pandas.pydata.org/pandas-docs/stable/user_guide/indexing.html#returning-a-view-versus-a-copy\n",
      "  df_main[\"clusters\"] = kmeans.labels_\n",
      "/var/folders/3c/q875p1_979j40ck65t4g0y640000gn/T/ipykernel_72613/2355151510.py:6: SettingWithCopyWarning: \n",
      "A value is trying to be set on a copy of a slice from a DataFrame.\n",
      "Try using .loc[row_indexer,col_indexer] = value instead\n",
      "\n",
      "See the caveats in the documentation: https://pandas.pydata.org/pandas-docs/stable/user_guide/indexing.html#returning-a-view-versus-a-copy\n",
      "  df_main[\"clusters\"] = kmeans.labels_\n",
      "/var/folders/3c/q875p1_979j40ck65t4g0y640000gn/T/ipykernel_72613/2355151510.py:6: SettingWithCopyWarning: \n",
      "A value is trying to be set on a copy of a slice from a DataFrame.\n",
      "Try using .loc[row_indexer,col_indexer] = value instead\n",
      "\n",
      "See the caveats in the documentation: https://pandas.pydata.org/pandas-docs/stable/user_guide/indexing.html#returning-a-view-versus-a-copy\n",
      "  df_main[\"clusters\"] = kmeans.labels_\n",
      "/var/folders/3c/q875p1_979j40ck65t4g0y640000gn/T/ipykernel_72613/2355151510.py:6: SettingWithCopyWarning: \n",
      "A value is trying to be set on a copy of a slice from a DataFrame.\n",
      "Try using .loc[row_indexer,col_indexer] = value instead\n",
      "\n",
      "See the caveats in the documentation: https://pandas.pydata.org/pandas-docs/stable/user_guide/indexing.html#returning-a-view-versus-a-copy\n",
      "  df_main[\"clusters\"] = kmeans.labels_\n",
      "/var/folders/3c/q875p1_979j40ck65t4g0y640000gn/T/ipykernel_72613/2355151510.py:6: SettingWithCopyWarning: \n",
      "A value is trying to be set on a copy of a slice from a DataFrame.\n",
      "Try using .loc[row_indexer,col_indexer] = value instead\n",
      "\n",
      "See the caveats in the documentation: https://pandas.pydata.org/pandas-docs/stable/user_guide/indexing.html#returning-a-view-versus-a-copy\n",
      "  df_main[\"clusters\"] = kmeans.labels_\n",
      "/var/folders/3c/q875p1_979j40ck65t4g0y640000gn/T/ipykernel_72613/2355151510.py:6: SettingWithCopyWarning: \n",
      "A value is trying to be set on a copy of a slice from a DataFrame.\n",
      "Try using .loc[row_indexer,col_indexer] = value instead\n",
      "\n",
      "See the caveats in the documentation: https://pandas.pydata.org/pandas-docs/stable/user_guide/indexing.html#returning-a-view-versus-a-copy\n",
      "  df_main[\"clusters\"] = kmeans.labels_\n",
      "/var/folders/3c/q875p1_979j40ck65t4g0y640000gn/T/ipykernel_72613/2355151510.py:6: SettingWithCopyWarning: \n",
      "A value is trying to be set on a copy of a slice from a DataFrame.\n",
      "Try using .loc[row_indexer,col_indexer] = value instead\n",
      "\n",
      "See the caveats in the documentation: https://pandas.pydata.org/pandas-docs/stable/user_guide/indexing.html#returning-a-view-versus-a-copy\n",
      "  df_main[\"clusters\"] = kmeans.labels_\n"
     ]
    },
    {
     "name": "stderr",
     "output_type": "stream",
     "text": [
      "/var/folders/3c/q875p1_979j40ck65t4g0y640000gn/T/ipykernel_72613/2355151510.py:6: SettingWithCopyWarning: \n",
      "A value is trying to be set on a copy of a slice from a DataFrame.\n",
      "Try using .loc[row_indexer,col_indexer] = value instead\n",
      "\n",
      "See the caveats in the documentation: https://pandas.pydata.org/pandas-docs/stable/user_guide/indexing.html#returning-a-view-versus-a-copy\n",
      "  df_main[\"clusters\"] = kmeans.labels_\n",
      "/var/folders/3c/q875p1_979j40ck65t4g0y640000gn/T/ipykernel_72613/2355151510.py:6: SettingWithCopyWarning: \n",
      "A value is trying to be set on a copy of a slice from a DataFrame.\n",
      "Try using .loc[row_indexer,col_indexer] = value instead\n",
      "\n",
      "See the caveats in the documentation: https://pandas.pydata.org/pandas-docs/stable/user_guide/indexing.html#returning-a-view-versus-a-copy\n",
      "  df_main[\"clusters\"] = kmeans.labels_\n"
     ]
    }
   ],
   "source": [
    "# sum of the squared Euclidean distances of each point to its closest centroid\n",
    "sse = {}\n",
    "\n",
    "for i in range(2,25):\n",
    "    kmeans = KMeans(n_clusters=i, init='k-means++', max_iter=100).fit(tfidf_vectorizer_text)\n",
    "    df_main[\"clusters\"] = kmeans.labels_\n",
    "    sse[i] = kmeans.inertia_"
   ]
  },
  {
   "cell_type": "code",
   "execution_count": 114,
   "id": "9092ce92",
   "metadata": {},
   "outputs": [
    {
     "data": {
      "text/plain": [
       "Text(0, 0.5, 'Inertia')"
      ]
     },
     "execution_count": 114,
     "metadata": {},
     "output_type": "execute_result"
    },
    {
     "data": {
      "image/png": "[encoded data removed]",
      "text/plain": [
       "<Figure size 864x432 with 1 Axes>"
      ]
     },
     "metadata": {
      "needs_background": "light"
     },
     "output_type": "display_data"
    }
   ],
   "source": [
    "# Plotting the curve with 'k'-value vs distance\n",
    "plt.figure(figsize=(12,6))\n",
    "plt.plot(list(sse.keys()), list(sse.values()), marker='o')\n",
    "plt.xlabel(\"Number of clusters\")\n",
    "plt.ylabel(\"Inertia\")"
   ]
  },
  {
   "cell_type": "code",
   "execution_count": 118,
   "id": "a6353242",
   "metadata": {},
   "outputs": [
    {
     "data": {
      "text/plain": [
       "(2264, 40459)"
      ]
     },
     "execution_count": 118,
     "metadata": {},
     "output_type": "execute_result"
    }
   ],
   "source": [
    "tfidf_vectorizer_text.shape"
   ]
  },
  {
   "cell_type": "code",
   "execution_count": 119,
   "id": "4aae6271",
   "metadata": {},
   "outputs": [],
   "source": [
    "# Use silhouette score to find optimal number of clusters\n",
    "\n",
    "res = {}\n",
    "for i in range(2,25):\n",
    "    \n",
    "    model = KMeans(n_clusters = i).fit(tfidf_vectorizer_text)\n",
    "    pred = model.predict(tfidf_vectorizer_text)\n",
    "    res[i] = silhouette_score(tfidf_vectorizer_text, pred)\n",
    "\n",
    "#optimum = max(res, key=res.get)"
   ]
  },
  {
   "cell_type": "markdown",
   "id": "792c0eb1",
   "metadata": {},
   "source": [
    "The coefficient combines the average within-cluster distance with average nearest-cluster distance to assign a value between -1 and 1. A value below zero denotes that the observation is probably in the wrong cluster and a value closer to 1 denotes that the observation is a great fit for the cluster and clearly separated from other clusters.\n",
    "\n",
    "\n",
    "ref: https://www.jeremyjordan.me/grouping-data-points-with-k-means-clustering/"
   ]
  },
  {
   "cell_type": "code",
   "execution_count": 121,
   "id": "9896d664",
   "metadata": {},
   "outputs": [],
   "source": [
    "best_k = 14"
   ]
  },
  {
   "cell_type": "code",
   "execution_count": 122,
   "id": "0884ae6e",
   "metadata": {},
   "outputs": [],
   "source": [
    "# model with k different centroid initializations and maximum iterations of 500\n",
    "k_model_text = KMeans(n_clusters=best_k, init='k-means++', max_iter=500, n_init=best_k)"
   ]
  },
  {
   "cell_type": "code",
   "execution_count": 123,
   "id": "0fb2b1bd",
   "metadata": {},
   "outputs": [
    {
     "data": {
      "text/plain": [
       "KMeans(max_iter=500, n_clusters=14, n_init=14)"
      ]
     },
     "execution_count": 123,
     "metadata": {},
     "output_type": "execute_result"
    }
   ],
   "source": [
    "k_model_text.fit(tfidf_vectorizer_text)"
   ]
  },
  {
   "cell_type": "code",
   "execution_count": 141,
   "id": "00486a85",
   "metadata": {},
   "outputs": [
    {
     "name": "stdout",
     "output_type": "stream",
     "text": [
      "Top words in each cluster:\n",
      "Cluster 0:\n",
      " bug\n",
      " specification\n",
      " unknown\n",
      " quality\n",
      " missing\n",
      " fight\n",
      " discovery\n",
      " software\n",
      " save\n",
      " stage\n",
      " implementation\n",
      " technique\n",
      " xolv\n",
      " tzu\n",
      "Cluster 1:\n",
      " bank\n",
      " banking\n",
      " payment\n",
      " customer\n",
      " card\n",
      " digital\n",
      " financial\n",
      " account\n",
      " service\n",
      " fintech\n",
      " credit\n",
      " mobile\n",
      " merchant\n",
      " institution\n",
      "Cluster 2:\n",
      " customer\n",
      " company\n",
      " digital\n",
      " business\n",
      " consumer\n",
      " brand\n",
      " product\n",
      " marketing\n",
      " technology\n",
      " new\n",
      " data\n",
      " market\n",
      " service\n",
      " insurance\n",
      "Cluster 3:\n",
      " google\n",
      " cloud\n",
      " data\n",
      " gcp\n",
      " platform\n",
      " service\n",
      " search\n",
      " app\n",
      " company\n",
      " apps\n",
      " new\n",
      " user\n",
      " machine\n",
      " customer\n",
      "Cluster 4:\n",
      " code\n",
      " file\n",
      " java\n",
      " use\n",
      " javascript\n",
      " server\n",
      " application\n",
      " test\n",
      " event\n",
      " node\n",
      " data\n",
      " api\n",
      " method\n",
      " web\n",
      "Cluster 5:\n",
      " apple\n",
      " mac\n",
      " iphone\n",
      " job\n",
      " siri\n",
      " steve\n",
      " io\n",
      " new\n",
      " device\n",
      " watch\n",
      " cook\n",
      " ibm\n",
      " app\n",
      " company\n",
      "Cluster 6:\n",
      " android\n",
      " google\n",
      " app\n",
      " vr\n",
      " mobile\n",
      " apps\n",
      " developer\n",
      " device\n",
      " window\n",
      " preview\n",
      " phone\n",
      " new\n",
      " io\n",
      " user\n",
      "Cluster 7:\n",
      " docker\n",
      " container\n",
      " kubernetes\n",
      " image\n",
      " run\n",
      " cluster\n",
      " application\n",
      " cloud\n",
      " command\n",
      " running\n",
      " engine\n",
      " build\n",
      " swarm\n",
      " linux\n",
      "Cluster 8:\n",
      " learning\n",
      " machine\n",
      " ai\n",
      " data\n",
      " intelligence\n",
      " algorithm\n",
      " deep\n",
      " human\n",
      " tensorflow\n",
      " artificial\n",
      " image\n",
      " google\n",
      " neural\n",
      " model\n",
      "Cluster 9:\n",
      " blockchain\n",
      " bitcoin\n",
      " ethereum\n",
      " currency\n",
      " technology\n",
      " bank\n",
      " contract\n",
      " financial\n",
      " ledger\n",
      " transaction\n",
      " digital\n",
      " payment\n",
      " smart\n",
      " said\n",
      "Cluster 10:\n",
      " drupal\n",
      " module\n",
      " hbr\n",
      " acquia\n",
      " content\n",
      " org\n",
      " site\n",
      " magazine\n",
      " commerce\n",
      " article\n",
      " ecommerce\n",
      " code\n",
      " issue\n",
      " core\n",
      "Cluster 11:\n",
      " team\n",
      " people\n",
      " product\n",
      " work\n",
      " time\n",
      " design\n",
      " company\n",
      " business\n",
      " data\n",
      " organization\n",
      " user\n",
      " make\n",
      " need\n",
      " agile\n",
      "Cluster 12:\n",
      " bot\n",
      " messenger\n",
      " chatbots\n",
      " facebook\n",
      " user\n",
      " conversation\n",
      " chat\n",
      " message\n",
      " conversational\n",
      " microsoft\n",
      " chatbot\n",
      " service\n",
      " app\n",
      " ai\n",
      "Cluster 13:\n",
      " data\n",
      " user\n",
      " like\n",
      " time\n",
      " new\n",
      " people\n",
      " language\n",
      " use\n",
      " company\n",
      " year\n",
      " make\n",
      " say\n",
      " google\n",
      " way\n"
     ]
    }
   ],
   "source": [
    "# Previewing top 14 words in each cluster\n",
    "\n",
    "print(\"Top words in each cluster:\")\n",
    "order_centroids = k_model_text.cluster_centers_.argsort()[:, ::-1]\n",
    "words = vectorizer.get_feature_names()\n",
    "for i in range(best_k):\n",
    "    print(\"Cluster %d:\" % i),\n",
    "    for ind in order_centroids[i, :14]:\n",
    "        print(' %s' % words[ind]),"
   ]
  },
  {
   "cell_type": "code",
   "execution_count": null,
   "id": "5f95d2ba",
   "metadata": {},
   "outputs": [],
   "source": []
  }
 ],
 "metadata": {
  "kernelspec": {
   "display_name": "Python 3 (ipykernel)",
   "language": "python",
   "name": "python3"
  },
  "language_info": {
   "codemirror_mode": {
    "name": "ipython",
    "version": 3
   },
   "file_extension": ".py",
   "mimetype": "text/x-python",
   "name": "python",
   "nbconvert_exporter": "python",
   "pygments_lexer": "ipython3",
   "version": "3.8.9"
  }
 },
 "nbformat": 4,
 "nbformat_minor": 5
}
